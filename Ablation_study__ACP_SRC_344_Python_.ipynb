{
  "cells": [
    {
      "cell_type": "markdown",
      "metadata": {
        "id": "view-in-github",
        "colab_type": "text"
      },
      "source": [
        "<a href=\"https://colab.research.google.com/github/ehtisham-Fazal/ACP_KSRC/blob/main/Ablation_study__ACP_SRC_344_Python_.ipynb\" target=\"_parent\"><img src=\"https://colab.research.google.com/assets/colab-badge.svg\" alt=\"Open In Colab\"/></a>"
      ]
    },
    {
      "cell_type": "code",
      "execution_count": 1,
      "id": "ec8db92f",
      "metadata": {
        "colab": {
          "base_uri": "https://localhost:8080/"
        },
        "id": "ec8db92f",
        "outputId": "c4dd1ad8-f324-44d6-cdfe-e926febfdcb8"
      },
      "outputs": [
        {
          "output_type": "stream",
          "name": "stdout",
          "text": [
            "Looking in indexes: https://pypi.org/simple, https://us-python.pkg.dev/colab-wheels/public/simple/\n",
            "Collecting wget\n",
            "  Downloading wget-3.2.zip (10 kB)\n",
            "Building wheels for collected packages: wget\n",
            "  Building wheel for wget (setup.py) ... \u001b[?25l\u001b[?25hdone\n",
            "  Created wheel for wget: filename=wget-3.2-py3-none-any.whl size=9675 sha256=94bb4cc4260cc484f9306271aa90ff23512b27babdb51fb260b9780c10b83ccf\n",
            "  Stored in directory: /root/.cache/pip/wheels/a1/b6/7c/0e63e34eb06634181c63adacca38b79ff8f35c37e3c13e3c02\n",
            "Successfully built wget\n",
            "Installing collected packages: wget\n",
            "Successfully installed wget-3.2\n"
          ]
        }
      ],
      "source": [
        "import sys, os, re, gc\n",
        "import numpy as np\n",
        "import pandas as pd\n",
        "from random import sample\n",
        "\n",
        "## Models\n",
        "import tensorflow as tf\n",
        "from tensorflow import keras\n",
        "from tensorflow.keras import layers\n",
        "\n",
        "from keras.models import Model\n",
        "from keras.layers import Input, Dense, BatchNormalization, Dropout\n",
        "from keras import metrics\n",
        "from keras import optimizers\n",
        "from keras.utils.np_utils import to_categorical\n",
        "\n",
        "import numpy.linalg as LA\n",
        "from sklearn.model_selection import train_test_split\n",
        "\n",
        "## Perfmetrics\n",
        "from sklearn.metrics import confusion_matrix\n",
        "from sklearn.metrics import classification_report, accuracy_score, matthews_corrcoef, balanced_accuracy_score, precision_recall_fscore_support\n",
        "from sklearn.metrics import auc, average_precision_score, precision_recall_curve, roc_curve,roc_auc_score\n",
        "\n",
        "## utilities\n",
        "from matplotlib import pyplot as plt\n",
        "!pip install wget\n",
        "import wget\n",
        "\n",
        "\n",
        "## pre-processing\n",
        "from sklearn.preprocessing import normalize, Normalizer\n",
        "from sklearn.decomposition import KernelPCA\n",
        "from imblearn.over_sampling import ADASYN, SMOTE, SVMSMOTE, KMeansSMOTE, BorderlineSMOTE"
      ]
    },
    {
      "cell_type": "code",
      "source": [
        "import os\n",
        "from google.colab import drive\n",
        "drive.mount('/content/drive')"
      ],
      "metadata": {
        "id": "pNG-VAhy2IO9",
        "colab": {
          "base_uri": "https://localhost:8080/"
        },
        "outputId": "5bb9fc9e-d3b0-4862-e3ad-bb4cba654d11"
      },
      "id": "pNG-VAhy2IO9",
      "execution_count": 2,
      "outputs": [
        {
          "output_type": "stream",
          "name": "stdout",
          "text": [
            "Mounted at /content/drive\n"
          ]
        }
      ]
    },
    {
      "cell_type": "code",
      "source": [
        "drive_path = '/content/drive/MyDrive/ACP_SRC_Ehtisham_Share/dataset_acp_344_KPCA/Matching_Pursuit_results/'\n",
        "os.chdir(drive_path)\n",
        "os.getcwd()"
      ],
      "metadata": {
        "colab": {
          "base_uri": "https://localhost:8080/",
          "height": 35
        },
        "id": "wMJC4Ckr2Zix",
        "outputId": "b1bef6e1-cdcf-46aa-d32d-ffb2b0eac6a5"
      },
      "id": "wMJC4Ckr2Zix",
      "execution_count": 3,
      "outputs": [
        {
          "output_type": "execute_result",
          "data": {
            "text/plain": [
              "'/content/drive/MyDrive/ACP_SRC_Ehtisham_Share/dataset_acp_344_KPCA/Matching_Pursuit_results'"
            ],
            "application/vnd.google.colaboratory.intrinsic+json": {
              "type": "string"
            }
          },
          "metadata": {},
          "execution_count": 3
        }
      ]
    },
    {
      "cell_type": "code",
      "execution_count": 4,
      "id": "4231e992",
      "metadata": {
        "id": "4231e992"
      },
      "outputs": [],
      "source": [
        "file1_path = 'https://raw.githubusercontent.com/NLPrinceton/sparse_recovery/master/solvers.py'\n",
        "wget.download(file1_path, 'solvers.py')\n",
        "from solvers import *"
      ]
    },
    {
      "cell_type": "code",
      "execution_count": 5,
      "id": "0f32eaa9",
      "metadata": {
        "id": "0f32eaa9"
      },
      "outputs": [],
      "source": [
        "def load_seq_data(data_path,label):\n",
        "  dataset = pd.read_csv(data_path,names=None,index_col=0, header=None)\n",
        "  seq = []\n",
        "  sample_count = 0\n",
        "\n",
        "  for row in dataset.iterrows():\n",
        "    if(row[0]!='>'):\n",
        "      sample_count = sample_count +1\n",
        "      array = [label, row[0]]    \n",
        "      name, sequence = array[0].split()[0], re.sub('[^ARNDCQEGHILKMFPSTWYV-]', '-', ''.join(array[1:]).upper())\n",
        "      seq.append([name, sequence])\n",
        "\n",
        "  print('# of ' + label + ' samples',sample_count)\n",
        "  return seq"
      ]
    },
    {
      "cell_type": "code",
      "execution_count": 6,
      "id": "68c169cb",
      "metadata": {
        "colab": {
          "base_uri": "https://localhost:8080/"
        },
        "id": "68c169cb",
        "outputId": "129b76d5-6707-4ef8-9c90-29a1937248b8"
      },
      "outputs": [
        {
          "output_type": "stream",
          "name": "stdout",
          "text": [
            "# of POS samples 138\n",
            "# of NEG samples 206\n",
            "138 206 344\n"
          ]
        }
      ],
      "source": [
        "pos_all_seq_path = 'https://raw.githubusercontent.com/Shujaat123/ACP_LSE/main/dataset_acp_JTB_2014/1-s2.0-S0022519313004190-mmc1.txt'\n",
        "neg_all_seq_path = 'https://raw.githubusercontent.com/Shujaat123/ACP_LSE/main/dataset_acp_JTB_2014/1-s2.0-S0022519313004190-mmc2.txt'\n",
        "\n",
        "pos_all_seq = load_seq_data(pos_all_seq_path,'POS')\n",
        "neg_all_seq = load_seq_data(neg_all_seq_path,'NEG')\n",
        "\n",
        "ALL_seq = pos_all_seq + neg_all_seq\n",
        "\n",
        "print(len(pos_all_seq), len(neg_all_seq), len(ALL_seq))"
      ]
    },
    {
      "cell_type": "code",
      "execution_count": 7,
      "id": "6b3c418d",
      "metadata": {
        "id": "6b3c418d"
      },
      "outputs": [],
      "source": [
        "def yoden_index(y, y_pred):\n",
        "  epsilon = 1e-30\n",
        "  tn, fp, fn, tp = confusion_matrix(y, y_pred, labels=[0,1]).ravel()\n",
        "  j = (tp/(tp + fn + epsilon)) + (tn/(tn+fp + epsilon)) - 1\n",
        "  return j\n",
        "\n",
        "def pmeasure(y, y_pred):\n",
        "    epsilon = 1e-30\n",
        "    tn, fp, fn, tp = confusion_matrix(y, y_pred, labels=[0,1]).ravel()\n",
        "    sensitivity = tp / (tp + fn + epsilon)\n",
        "    specificity = tn / (tn + fp + epsilon)\n",
        "    f1score = (2 * tp) / (2 * tp + fp + fn + epsilon)\n",
        "    return ({'Sensitivity': sensitivity, 'Specificity': specificity, 'F1-Score': f1score})\n",
        "    \n",
        "def Calculate_Stats(y_actual,y_pred):\n",
        "  acc = accuracy_score(y_actual, y_pred)\n",
        "  sen = pmeasure(y_actual, y_pred)['Sensitivity']\n",
        "  spe = pmeasure(y_actual, y_pred)['Specificity']\n",
        "  f1 = pmeasure(y_actual, y_pred)['F1-Score']\n",
        "  mcc = matthews_corrcoef(y_actual, y_pred)\n",
        "  bacc = balanced_accuracy_score(y_actual, y_pred)\n",
        "  yi = yoden_index(y_actual, y_pred)\n",
        "  return acc, sen, spe, f1, mcc, bacc, yi"
      ]
    },
    {
      "cell_type": "code",
      "execution_count": 35,
      "id": "c392a070",
      "metadata": {
        "id": "c392a070"
      },
      "outputs": [],
      "source": [
        "def Test_SRC(A,delta_y,DATA,LABEL,solver='BP',verbose=0, x0=None, ATinvAAT=None, nnz=None, positive=False, tol=1E-4, niter=100, biter=32):\n",
        "  import time\n",
        "  LABEL_PRED = []\n",
        "  SCORE_PRED=[]\n",
        "  count = 0\n",
        "  time_ellapsed = []\n",
        "  for ind in range(0,DATA.shape[1]):\n",
        "    start_time = time.time()\n",
        "    b = DATA[:,ind]\n",
        "    if(solver=='BP'):     \n",
        "      x = BasisPursuit(A, b, x0=x0, ATinvAAT=ATinvAAT, positive=positive, tol=tol, niter=niter, biter=biter)\n",
        "    elif(solver=='MP'):      \n",
        "      x = MatchingPursuit(A, b, tol=tol, nnz=nnz, positive=positive)\n",
        "    elif (solver==\"OP\"):\n",
        "      x = OrthogonalMP(A, b, tol=tol, nnz=nnz, positive=positive)\n",
        " \n",
        "    label_out, score_out = delta_rule(A,delta_y,x,b)\n",
        "    time_ellapsed.append(time.time()-start_time)\n",
        "    if (verbose):\n",
        "      check = label_out==LABEL[ind]\n",
        "      if (check):\n",
        "        count = count + 1\n",
        "      accuracy = 100*count/(ind+1)\n",
        "      print(ind+1, count, accuracy, LABEL[ind], label_out, check)\n",
        "    LABEL_PRED.append(label_out)\n",
        "    SCORE_PRED.append(score_out)\n",
        "\n",
        "  return np.array(LABEL_PRED), np.array(SCORE_PRED),np.array(time_ellapsed )"
      ]
    },
    {
      "cell_type": "code",
      "execution_count": 9,
      "id": "9a0e5eaa",
      "metadata": {
        "id": "9a0e5eaa"
      },
      "outputs": [],
      "source": [
        "def delta_rule(A,delta_y,x,b):\n",
        "  delta1 = 0*x\n",
        "  delta2 = 0*x\n",
        "  delta1[delta_y==1]=x[delta_y==1]\n",
        "  delta2[delta_y==0]=x[delta_y==0]\n",
        "  y1 = np.matmul(A,delta1)\n",
        "  y2 = np.matmul(A,delta2)\n",
        "  r1 = np.linalg.norm(y1-b)\n",
        "  r2 = np.linalg.norm(y2-b)\n",
        "\n",
        "  if(r1<r2):\n",
        "    label = 1\n",
        "  else:\n",
        "    label = 0\n",
        "  score=(r2)/(r1+r2)\n",
        "\n",
        "  return label, score\n",
        "\n"
      ]
    },
    {
      "cell_type": "code",
      "execution_count": 10,
      "id": "21031082",
      "metadata": {
        "id": "21031082"
      },
      "outputs": [],
      "source": [
        "def Convert_Seq2CKSAAP(train_seq, gap=8):\n",
        "  cksaapfea = []\n",
        "  seq_label = []\n",
        "  for sseq in train_seq:\n",
        "    temp= CKSAAP([sseq], gap=8)\n",
        "    cksaapfea.append(temp[1][1:])\n",
        "    seq_label.append(sseq[0])\n",
        "\n",
        "  x = np.array(cksaapfea)\n",
        "  y = np.array(seq_label)\n",
        "  y[y=='POS']=1\n",
        "  y[y=='NEG']=0\n",
        "  y = to_categorical(y)\n",
        "  print('num pos:', sum(y[:,0]==1), 'num neg:', sum(y[:,0]==0))\n",
        "  return x,y\n",
        "\n",
        "def minSequenceLength(fastas):\n",
        "    minLen = 10000\n",
        "    for i in fastas:\n",
        "        if minLen > len(i[1]):\n",
        "            minLen = len(i[1])\n",
        "    return minLen\n",
        "\n",
        "def CKSAAP(fastas, gap=5, **kw):\n",
        "    if gap < 0:\n",
        "        print('Error: the gap should be equal or greater than zero' + '\\n\\n')\n",
        "        return 0\n",
        "\n",
        "    if minSequenceLength(fastas) < gap+2:\n",
        "        print('Error: all the sequence length should be larger than the (gap value) + 2 = ' + str(gap+2) + '\\n' + 'Current sequence length ='  + str(minSequenceLength(fastas)) + '\\n\\n')\n",
        "        return 0\n",
        "\n",
        "    AA = 'ACDEFGHIKLMNPQRSTVWY'\n",
        "    encodings = []\n",
        "    aaPairs = []\n",
        "    for aa1 in AA:\n",
        "        for aa2 in AA:\n",
        "            aaPairs.append(aa1 + aa2)\n",
        "    header = ['#']\n",
        "    for g in range(gap+1):\n",
        "        for aa in aaPairs:\n",
        "            header.append(aa + '.gap' + str(g))\n",
        "    encodings.append(header)\n",
        "    for i in fastas:\n",
        "        name, sequence = i[0], i[1]\n",
        "        code = [name]\n",
        "        for g in range(gap+1):\n",
        "            myDict = {}\n",
        "            for pair in aaPairs:\n",
        "                myDict[pair] = 0\n",
        "            sum = 0\n",
        "            for index1 in range(len(sequence)):\n",
        "                index2 = index1 + g + 1\n",
        "                if index1 < len(sequence) and index2 < len(sequence) and sequence[index1] in AA and sequence[index2] in AA:\n",
        "                    myDict[sequence[index1] + sequence[index2]] = myDict[sequence[index1] + sequence[index2]] + 1\n",
        "                    sum = sum + 1\n",
        "            for pair in aaPairs:\n",
        "                code.append(myDict[pair] / sum)\n",
        "        encodings.append(code)\n",
        "    return encodings"
      ]
    },
    {
      "cell_type": "code",
      "execution_count": 44,
      "id": "0d062756",
      "metadata": {
        "colab": {
          "base_uri": "https://localhost:8080/",
          "height": 1000
        },
        "id": "0d062756",
        "outputId": "771c2b21-50b2-4348-b90c-0311b9786618"
      },
      "outputs": [
        {
          "output_type": "stream",
          "name": "stdout",
          "text": [
            "num pos: 206 num neg: 138\n",
            "num pos train: 137 num neg train: 92\n",
            "Fold #  0\n",
            "After Resampling \n",
            " num pos train: 137 num neg train: 139\n",
            "After Resampling \n",
            " num pos test: 69 num neg test: 46\n",
            "0.8869565217391304 0.9565217391304348 0.782608695652174 0.9103448275862069 0.7648661601319409 0.8695652173913044 0.7391304347826089 [0.01785922 0.02016449 0.02240729 0.02362061 0.02762485 0.020082\n",
            " 0.01714087 0.01643181 0.01765728 0.01803899 0.0138061  0.0196352\n",
            " 0.02037501 0.01207042 0.01755118 0.01282454 0.01671624 0.02157283\n",
            " 0.01282048 0.0146966  0.01290441 0.01555181 0.01951742 0.01154661\n",
            " 0.01209021 0.01463103 0.01267838 0.01638842 0.01576877 0.01389527\n",
            " 0.0132525  0.01629233 0.01135135 0.01263642 0.01339912 0.01290321\n",
            " 0.01413822 0.01588917 0.01379538 0.01229548 0.02065086 0.01808143\n",
            " 0.01836705 0.01239777 0.01373935 0.01650667 0.0122304  0.01432014\n",
            " 0.01271296 0.01468682 0.01535606 0.01147723 0.01583195 0.01629472\n",
            " 0.0218575  0.01703811 0.01576519 0.01648211 0.016047   0.01117802\n",
            " 0.01318097 0.01474524 0.01324105 0.01466012 0.01404595 0.01374936\n",
            " 0.01413918 0.0162034  0.01362228 0.01415133 0.01584506 0.01424885\n",
            " 0.02442431 0.01890278 0.01469469 0.01617837 0.01180482 0.01936412\n",
            " 0.02414227 0.02549243 0.01293015 0.01361632 0.01314855 0.01643753\n",
            " 0.01203251 0.01615024 0.01586223 0.01350021 0.01239824 0.01428866\n",
            " 0.01498866 0.01250267 0.01546812 0.01626229 0.01323819 0.01179028\n",
            " 0.01585674 0.0134542  0.01375508 0.01379585 0.01211476 0.0150485\n",
            " 0.01370049 0.01400971 0.01669168 0.01239228 0.01236105 0.01922917\n",
            " 0.01391888 0.01329327 0.01296234 0.01206517 0.0155623  0.01205635\n",
            " 0.01536965]\n",
            "num pos train: 137 num neg train: 92\n",
            "Fold #  1\n",
            "After Resampling \n",
            " num pos train: 137 num neg train: 139\n",
            "After Resampling \n",
            " num pos test: 69 num neg test: 46\n",
            "0.9043478260869565 0.8695652173913043 0.9565217391304348 0.916030534351145 0.8118867365816043 0.9130434782608696 0.8260869565217392 [0.02169442 0.01995134 0.02580452 0.02156043 0.03348351 0.0135498\n",
            " 0.0141747  0.01519585 0.01277494 0.01709533 0.01412082 0.01655316\n",
            " 0.0171299  0.01593184 0.01992655 0.02033353 0.01152539 0.01311016\n",
            " 0.01182461 0.01422095 0.01667738 0.01366591 0.0164988  0.01369452\n",
            " 0.01385474 0.01612282 0.01635337 0.02598405 0.01342368 0.01613593\n",
            " 0.01290345 0.01619196 0.01645112 0.01486373 0.01799965 0.01424313\n",
            " 0.01550651 0.01803303 0.0144403  0.02023506 0.01836228 0.01283598\n",
            " 0.01302433 0.01673579 0.01319218 0.01191592 0.01422834 0.01215434\n",
            " 0.01193714 0.0137794  0.0199697  0.01305676 0.01153302 0.01508594\n",
            " 0.01539135 0.01708603 0.0133872  0.02017784 0.02094173 0.01585317\n",
            " 0.01500869 0.01415944 0.01508331 0.01348591 0.01332426 0.01486969\n",
            " 0.01458049 0.01414251 0.01399708 0.01143885 0.01309323 0.01347327\n",
            " 0.01545548 0.01515961 0.01212788 0.01740599 0.01398969 0.01440287\n",
            " 0.01593328 0.01220989 0.01709771 0.01497006 0.01910114 0.01264572\n",
            " 0.02364445 0.01353908 0.01431346 0.01497865 0.01945257 0.012918\n",
            " 0.01703143 0.01311851 0.01323009 0.01775527 0.01240253 0.01799536\n",
            " 0.02530742 0.01633978 0.01375771 0.0130291  0.01538086 0.01804972\n",
            " 0.01244617 0.0148294  0.01551294 0.0117929  0.01392722 0.02592731\n",
            " 0.03478861 0.02450061 0.01433277 0.01127768 0.01356411 0.01404095\n",
            " 0.01194215]\n",
            "num pos train: 138 num neg train: 92\n",
            "Fold #  2\n",
            "After Resampling \n",
            " num pos train: 138 num neg train: 140\n",
            "After Resampling \n",
            " num pos test: 68 num neg test: 46\n",
            "0.8947368421052632 0.9705882352941176 0.782608695652174 0.9166666666666666 0.7838686930074691 0.8765984654731458 0.7531969309462916 [0.02157664 0.026227   0.01763082 0.03205633 0.03931093 0.02539873\n",
            " 0.0122087  0.01283646 0.01869178 0.01548314 0.01589751 0.01719499\n",
            " 0.01855183 0.02436423 0.01411724 0.0191853  0.01406741 0.01321173\n",
            " 0.01566672 0.01567483 0.01755571 0.01455855 0.01204586 0.01343155\n",
            " 0.0142262  0.0235424  0.01646185 0.01213908 0.01168084 0.01205587\n",
            " 0.01147342 0.01627874 0.0126996  0.01307273 0.01423454 0.01454282\n",
            " 0.0136323  0.01462388 0.01370144 0.0119586  0.01504254 0.01146221\n",
            " 0.02502632 0.02397513 0.01728439 0.01194143 0.01247549 0.01637578\n",
            " 0.01190042 0.01961732 0.02744007 0.0207684  0.03585267 0.03233695\n",
            " 0.0197823  0.02145886 0.03065825 0.02084255 0.02753997 0.02387071\n",
            " 0.01953077 0.01909518 0.02305627 0.02365804 0.02169085 0.03528619\n",
            " 0.02639294 0.02562976 0.02277231 0.02791381 0.02543998 0.02739477\n",
            " 0.02858806 0.02514505 0.02444601 0.02560616 0.02135873 0.02168632\n",
            " 0.02988863 0.02114582 0.01962519 0.02130556 0.02620959 0.01984549\n",
            " 0.02148676 0.01971054 0.02146029 0.02651525 0.02616692 0.02344227\n",
            " 0.03233266 0.02148366 0.02072763 0.01885676 0.02471209 0.02312684\n",
            " 0.0255115  0.02764654 0.03154397 0.02469563 0.02421594 0.0316422\n",
            " 0.02311039 0.02460909 0.02488375 0.02152514 0.02581286 0.03301859\n",
            " 0.02497482 0.02475023 0.01954293 0.0218842  0.02761769 0.02252245]\n",
            "SAVING... ACP_KSRC_STATS_CKSAAP_GAP8_PC30.mat\n"
          ]
        },
        {
          "output_type": "stream",
          "name": "stderr",
          "text": [
            "/usr/local/lib/python3.7/dist-packages/ipykernel_launcher.py:64: VisibleDeprecationWarning: Creating an ndarray from ragged nested sequences (which is a list-or-tuple of lists-or-tuples-or ndarrays with different lengths or shapes) is deprecated. If you meant to do this, you must specify 'dtype=object' when creating the ndarray.\n"
          ]
        },
        {
          "output_type": "display_data",
          "data": {
            "text/plain": [
              "<Figure size 432x288 with 1 Axes>"
            ],
            "image/png": "[encoded data removed]"
          },
          "metadata": {
            "needs_background": "light"
          }
        }
      ],
      "source": [
        "from scipy.io import savemat\n",
        "from sklearn.model_selection import KFold, StratifiedKFold\n",
        "gaps = 8\n",
        "cross_fold_ing = 0\n",
        "# pc_list=[10,20,30,40,50,60,70,80,90,100,110,150,175,200,225,250,300,350,400,450,500,550,600]\n",
        "pc_list=[30]\n",
        "kf = StratifiedKFold(n_splits=3, shuffle=True, random_state=2)\n",
        "# import warnings filter\n",
        "from warnings import simplefilter\n",
        "# ignore all future warnings\n",
        "simplefilter(action='ignore', category=FutureWarning)\n",
        "for num_pc  in pc_list:\n",
        "  stats = []\n",
        "  classification_time=[]\n",
        "  cross_fold_ing=-1\n",
        "  [DataX, LabelY] = Convert_Seq2CKSAAP(ALL_seq, gap=8)     \n",
        "  for train_index, test_index in kf.split(DataX,np.argmax(LabelY,axis=1)):\n",
        "      cross_fold_ing = cross_fold_ing + 1\n",
        "      X_train, X_test = DataX[train_index], DataX[test_index]\n",
        "      y_train, y_test = LabelY[train_index], LabelY[test_index]\n",
        "      print('num pos train:', sum(y_train[:,0]==1), 'num neg train:', sum(y_train[:,0]==0))\n",
        "      y_train = y_train[:,0]\n",
        "      y_test=y_test[:,0]  \n",
        "\n",
        "      print('Fold # ', cross_fold_ing)\n",
        "      ## pre-processing PCA\n",
        "      normalizer = Normalizer().fit(X_train)  \n",
        "      X_train = normalizer.transform(X_train)\n",
        "      X_test = normalizer.transform(X_test)\n",
        "      oversampler = KMeansSMOTE(random_state=42)    \n",
        "      X_train, y_train = oversampler.fit_resample(X_train, y_train)\n",
        "      print('After Resampling \\n','num pos train:', sum(y_train==1), 'num neg train:', sum(y_train==0))\n",
        "      print('After Resampling \\n','num pos test:', sum(y_test==1), 'num neg test:', sum(y_test==0))\n",
        "      transformer = KernelPCA(n_components=num_pc, kernel='poly') # 'linear', 'poly', 'rbf', ‘sigmoid’, ‘cosine’\n",
        "      transformer.fit_transform(X_train)\n",
        "      X_train = transformer.transform(X_train)\n",
        "      X_test = transformer.transform(X_test)  \n",
        "      X_train = np.transpose(X_train)\n",
        "      X_test = np.transpose(X_test)\n",
        "      y_test_pred,y_test_score,elp_time= Test_SRC(X_train,y_train,X_test,y_test,solver='BP',verbose=0, x0=None, ATinvAAT=None, nnz=None, positive=True, tol=1E-4, niter=100, biter=32)\n",
        "\n",
        "      # tr_acc, tr_sen, tr_spe, tr_f1, tr_mcc, tr_bacc, tr_yi = Calculate_Stats(y_train, y_train_pred)\n",
        "      t_acc, t_sen, t_spe, t_f1, t_mcc, t_bacc, t_yi = Calculate_Stats(y_test,y_test_pred)\n",
        "      \n",
        "      print(t_acc, t_sen, t_spe, t_f1, t_mcc, t_bacc, t_yi, elp_time)\n",
        "\n",
        "      stats.append([t_acc, t_sen, t_spe, t_f1, t_mcc, t_bacc, t_yi])\n",
        "      classification_time.append([elp_time])\n",
        "\n",
        "\n",
        "\n",
        "\n",
        "  # print('Mean stats:', np.mean(stats,axis=0))\n",
        "  # print('Mean stats:', np.mean(classification_time,axis=0))\n",
        "  # print('Std stats:', np.std(stats,axis=0))\n",
        "  x=np.mean(stats,axis=0)\n",
        "  # print(\"B_ACC={}, MCC={}, Youden's_index={}\".format(x[5],x[4],x[6]))\n",
        "  ###AUC ROC CURVE\n",
        "  r_auc = roc_auc_score(y_test,y_test_score)\n",
        "  r_fpr, r_tpr, _ = roc_curve(y_test,y_test_score)\n",
        "  plt.plot(r_fpr, r_tpr, linestyle='--', label='ACP_SRC (AUROC = %0.3f)' % r_auc)\n",
        "  # del model  # deletes the existing model\n",
        "  Class_Statistics = np.asarray(stats)\n",
        "  Time_Statistics= np.asarray(classification_time)\n",
        "  filename = 'ACP_KSRC_STATS_CKSAAP_GAP' + str(gaps) + '_PC' + str(num_pc) + '.mat'\n",
        "  savemat(filename,{'Time_Statistics':Time_Statistics})\n",
        "  print('SAVING... '+ filename)\n",
        "\n",
        "  # Title\n",
        "  # plt.title('ROC Plot')\n",
        "  # # Axis labels\n",
        "  # plt.xlabel('False Positive Rate')\n",
        "  # plt.ylabel('True Positive Rate')\n",
        "  # Show legend\n",
        "  plt.legend() # \n",
        "  # Show plot\n",
        "  plt.show()"
      ]
    },
    {
      "cell_type": "code",
      "execution_count": 29,
      "id": "849703ae",
      "metadata": {
        "id": "849703ae"
      },
      "outputs": [],
      "source": [
        "savemat(filename,{'Class_Statistics':Class_Statistics,'Time_Statistics':Time_Statistics})"
      ]
    }
  ],
  "metadata": {
    "kernelspec": {
      "display_name": "Python 3 (ipykernel)",
      "language": "python",
      "name": "python3"
    },
    "language_info": {
      "codemirror_mode": {
        "name": "ipython",
        "version": 3
      },
      "file_extension": ".py",
      "mimetype": "text/x-python",
      "name": "python",
      "nbconvert_exporter": "python",
      "pygments_lexer": "ipython3",
      "version": "3.7.13"
    },
    "colab": {
      "provenance": [],
      "collapsed_sections": [],
      "include_colab_link": true
    },
    "gpuClass": "standard"
  },
  "nbformat": 4,
  "nbformat_minor": 5
}